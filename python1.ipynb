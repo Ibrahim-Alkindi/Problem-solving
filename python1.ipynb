{
 "cells": [
  {
   "cell_type": "code",
   "execution_count": 1,
   "id": "b77bd6f3-e0a4-49e0-96e0-85e4c5ccb3a6",
   "metadata": {},
   "outputs": [
    {
     "name": "stdout",
     "output_type": "stream",
     "text": [
      "This is my name Ibrahim and my age is 23\n"
     ]
    }
   ],
   "source": [
    "x = 23\n",
    "y = \"Ibrahim\"\n",
    "print('This is my name {} and my age is {}'.format(y,x))"
   ]
  },
  {
   "cell_type": "code",
   "execution_count": 2,
   "id": "4d96f8df-614a-4614-a8b1-a93b5db74bc5",
   "metadata": {},
   "outputs": [
    {
     "name": "stdout",
     "output_type": "stream",
     "text": [
      "Ibrahim\n",
      "Ibrahim\n",
      "Ibrahim\n",
      "Ibrahim\n",
      "Ibrahim\n",
      "Ibrahim\n",
      "Ibrahim\n",
      "Ibrahim\n",
      "Ibrahim\n",
      "Ibrahim\n",
      "Ibrahim\n",
      "Ibrahim\n",
      "Ibrahim\n",
      "Ibrahim\n",
      "Ibrahim\n",
      "Ibrahim\n",
      "Ibrahim\n",
      "Ibrahim\n",
      "Ibrahim\n",
      "Ibrahim\n"
     ]
    }
   ],
   "source": [
    "# tHIS A COMMENT\n",
    "'''hELLO MY NAME IS IBRAHIM'''\n",
    "say = \"Ibrahim\"\n",
    "n = 0\n",
    "while n < 20:\n",
    "    n = n + 1\n",
    "    print(say)"
   ]
  },
  {
   "cell_type": "code",
   "execution_count": 3,
   "id": "012947fa-d1b9-41c4-8e95-119460f72f20",
   "metadata": {},
   "outputs": [
    {
     "name": "stdout",
     "output_type": "stream",
     "text": [
      "Ibraim\n",
      "Al muhannad\n"
     ]
    }
   ],
   "source": [
    "name = \"Ibraim\"\n",
    "print(name)\n",
    "name = \"Al muhannad\"\n",
    "print(name)"
   ]
  },
  {
   "cell_type": "code",
   "execution_count": 4,
   "id": "b8d00842-647e-4759-952d-4aa0e30b19e8",
   "metadata": {},
   "outputs": [
    {
     "name": "stdout",
     "output_type": "stream",
     "text": [
      "hf\n"
     ]
    }
   ],
   "source": [
    "CanVolume = \"hf\"\n",
    "print(CanVolume)"
   ]
  },
  {
   "cell_type": "code",
   "execution_count": 5,
   "id": "7754be96-38f3-4558-9d54-d060f94f0e38",
   "metadata": {},
   "outputs": [
    {
     "name": "stdout",
     "output_type": "stream",
     "text": [
      "200\n"
     ]
    }
   ],
   "source": [
    "YEAR = 10\n",
    "WORK =20\n",
    "print(10*20)"
   ]
  },
  {
   "cell_type": "code",
   "execution_count": 6,
   "id": "bc023ae7-40f4-44e2-b495-ebdedc823a85",
   "metadata": {},
   "outputs": [
    {
     "name": "stdout",
     "output_type": "stream",
     "text": [
      "Six Cans\n"
     ]
    }
   ],
   "source": [
    "SIX_CAN = 6\n",
    "OUNCE_TO_LITER = 0.355\n",
    "#OUNCES_PER_CAN = 12\n",
    "ONE_BOTTLE_LITER = 2\n",
    "liters_in_all_can = SIX_CAN * OUNCE_TO_LITER\n",
    "if liters_in_all_can > ONE_BOTTLE_LITER:\n",
    "    print(\"Six Cans\")\n",
    "else:\n",
    "    print(\"One bottle\")"
   ]
  },
  {
   "cell_type": "code",
   "execution_count": 7,
   "id": "82a1ecb2-fa82-43fe-aac4-ff5e08a85b94",
   "metadata": {},
   "outputs": [
    {
     "data": {
      "text/plain": [
       "8"
      ]
     },
     "execution_count": 7,
     "metadata": {},
     "output_type": "execute_result"
    }
   ],
   "source": [
    "x = pow(2,3)\n",
    "x"
   ]
  },
  {
   "cell_type": "code",
   "execution_count": 8,
   "id": "98d19a73-62a2-4e05-b6fa-f213b6478df6",
   "metadata": {},
   "outputs": [
    {
     "name": "stdin",
     "output_type": "stream",
     "text": [
      "Enter value for b, r, and n:  12 2 3\n"
     ]
    },
    {
     "name": "stdout",
     "output_type": "stream",
     "text": [
      "12.734496000000002\n"
     ]
    }
   ],
   "source": [
    "b,r,n = map(eval, input(\"Enter value for b, r, and n: \").split())\n",
    "\n",
    "expression = b * (1 + r/100)**n\n",
    "print(expression)"
   ]
  },
  {
   "cell_type": "code",
   "execution_count": 9,
   "id": "040755c1-570f-4f21-aeef-e8fda63254d5",
   "metadata": {},
   "outputs": [
    {
     "data": {
      "text/plain": [
       "2"
      ]
     },
     "execution_count": 9,
     "metadata": {},
     "output_type": "execute_result"
    }
   ],
   "source": [
    "floor_division = 5//2\n",
    "floor_division"
   ]
  },
  {
   "cell_type": "code",
   "execution_count": 10,
   "id": "957be032-d74e-4439-981c-70609b5ced31",
   "metadata": {},
   "outputs": [
    {
     "data": {
      "text/plain": [
       "3"
      ]
     },
     "execution_count": 10,
     "metadata": {},
     "output_type": "execute_result"
    }
   ],
   "source": [
    "rem = 10%7\n",
    "rem"
   ]
  },
  {
   "cell_type": "code",
   "execution_count": 41,
   "id": "2e155c62-871f-4904-b8a3-d03633d676db",
   "metadata": {},
   "outputs": [
    {
     "name": "stdout",
     "output_type": "stream",
     "text": [
      "is odd\n"
     ]
    }
   ],
   "source": [
    "a = 6 \n",
    "b = 13 \n",
    "if b%2==0:\n",
    "    print(\"is even\")\n",
    "else:\n",
    "    print(\"is odd\")"
   ]
  },
  {
   "cell_type": "code",
   "execution_count": 71,
   "id": "831c5579-c33b-4338-b7e2-71ac0cdeffc4",
   "metadata": {},
   "outputs": [
    {
     "name": "stdout",
     "output_type": "stream",
     "text": [
      "6 is even.\n",
      "8\n",
      "10\n",
      "12\n"
     ]
    }
   ],
   "source": [
    "a = 6 # try changing this to an odd number like 7 to test both cases\n",
    "b = 13\n",
    "if a % 2 == 0:\n",
    "    print(f\"{a} is even.\")\n",
    "    # Example: print next 5 even numbers\n",
    "    for i in range(3):\n",
    "        a += 2\n",
    "        print(a)\n",
    "else:\n",
    "    print(f\"{a} is odd.\")\n",
    "    # Example: print next 5 odd numbers\n",
    "    for i in range(5):\n",
    "        a += 2\n",
    "        print(a)\n"
   ]
  },
  {
   "cell_type": "code",
   "execution_count": 75,
   "id": "62b8c8d3-01f7-4bcc-af4a-9a2803b45cfb",
   "metadata": {},
   "outputs": [
    {
     "name": "stdout",
     "output_type": "stream",
     "text": [
      "Even numbers between 6 and 13\n",
      "6\n",
      "8\n",
      "10\n",
      "12\n",
      "Odd numbers between 6 and 13\n",
      "7\n",
      "9\n",
      "11\n",
      "13\n"
     ]
    }
   ],
   "source": [
    "a = 6\n",
    "b = 13\n",
    "\n",
    "print(\"Even numbers between\", a, \"and\", b)\n",
    "for i in range(a, b + 1):\n",
    "    if i % 2 == 0:\n",
    "        print(i)\n",
    "\n",
    "print(\"Odd numbers between\", a, \"and\", b)\n",
    "for i in range(a, b + 1):\n",
    "    if i % 2 != 0:\n",
    "        print(i)"
   ]
  },
  {
   "cell_type": "code",
   "execution_count": 37,
   "id": "6b267dc8-897d-4b96-a28b-c62c5a74f4cf",
   "metadata": {},
   "outputs": [
    {
     "name": "stdout",
     "output_type": "stream",
     "text": [
      "12\n"
     ]
    }
   ],
   "source": [
    "z = -12\n",
    "if z < 0:\n",
    "    z = abs(z)\n",
    "    print(z)\n",
    "else:\n",
    "    print(z)"
   ]
  },
  {
   "cell_type": "code",
   "execution_count": 13,
   "id": "356aae86-951d-4120-8d75-22a3ed07cdf2",
   "metadata": {},
   "outputs": [
    {
     "data": {
      "text/plain": [
       "12"
      ]
     },
     "execution_count": 13,
     "metadata": {},
     "output_type": "execute_result"
    }
   ],
   "source": [
    "abs(-12)"
   ]
  },
  {
   "cell_type": "code",
   "execution_count": 14,
   "id": "80de9a90-44da-405b-bd48-50bb92fd888f",
   "metadata": {},
   "outputs": [
    {
     "data": {
      "text/plain": [
       "234.8"
      ]
     },
     "execution_count": 14,
     "metadata": {},
     "output_type": "execute_result"
    }
   ],
   "source": [
    "f = 234.85\n",
    "g = round(f,1)\n",
    "g"
   ]
  },
  {
   "cell_type": "code",
   "execution_count": 51,
   "id": "105f08e7-96bf-4fa2-b4fc-2f66ef096362",
   "metadata": {},
   "outputs": [
    {
     "name": "stdout",
     "output_type": "stream",
     "text": [
      "The min is 1 and max is 5\n"
     ]
    }
   ],
   "source": [
    "list = [1,2,3,4,5]\n",
    "min1 = min(list)\n",
    "max1 = max(list)\n",
    "print(\"The min is {} and max is {}\".format(min1,max1))"
   ]
  },
  {
   "cell_type": "code",
   "execution_count": 53,
   "id": "fef66d1c-c3ab-4832-a1f0-c20f7026fa54",
   "metadata": {},
   "outputs": [],
   "source": [
    "from math import sqrt "
   ]
  },
  {
   "cell_type": "code",
   "execution_count": 65,
   "id": "7e070a1d-eaa1-4a24-b0d0-6743c1a36a03",
   "metadata": {},
   "outputs": [
    {
     "data": {
      "text/plain": [
       "12.0"
      ]
     },
     "execution_count": 65,
     "metadata": {},
     "output_type": "execute_result"
    }
   ],
   "source": [
    "y = 144\n",
    "ss = sqrt(y)\n",
    "ss"
   ]
  },
  {
   "cell_type": "code",
   "execution_count": 67,
   "id": "651b98e9-8748-46f6-a1c8-024987193303",
   "metadata": {},
   "outputs": [
    {
     "name": "stdout",
     "output_type": "stream",
     "text": [
      "0\n",
      "1\n",
      "2\n",
      "3\n",
      "4\n"
     ]
    }
   ],
   "source": [
    "for i in range(5):\n",
    "    print(i)"
   ]
  }
 ],
 "metadata": {
  "kernelspec": {
   "display_name": "Python [conda env:base] *",
   "language": "python",
   "name": "conda-base-py"
  },
  "language_info": {
   "codemirror_mode": {
    "name": "ipython",
    "version": 3
   },
   "file_extension": ".py",
   "mimetype": "text/x-python",
   "name": "python",
   "nbconvert_exporter": "python",
   "pygments_lexer": "ipython3",
   "version": "3.12.7"
  }
 },
 "nbformat": 4,
 "nbformat_minor": 5
}
