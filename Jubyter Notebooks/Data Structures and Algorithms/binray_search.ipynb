{
 "cells": [
  {
   "cell_type": "code",
   "execution_count": 43,
   "id": "2453d258-c02d-4db7-b9ba-7070b130175c",
   "metadata": {},
   "outputs": [
    {
     "name": "stdin",
     "output_type": "stream",
     "text": [
      "Enter numbers for the list: 1 2\n",
      "Enter any number to search:  2\n"
     ]
    },
    {
     "name": "stdout",
     "output_type": "stream",
     "text": [
      "The number is in the list and the index number is: 1\n"
     ]
    }
   ],
   "source": [
    "def binary_search(list1, target):\n",
    "    lower_bound = 0\n",
    "    upper_bound = len(list1) - 1\n",
    "    while lower_bound <= upper_bound:\n",
    "        middle = (lower_bound + upper_bound) // 2\n",
    "        if list1[middle] == target:\n",
    "            return middle\n",
    "        elif list1[middle] < target:\n",
    "            lower_bound = middle + 1\n",
    "        else:\n",
    "            upper_bound = middle - 1\n",
    "    return \"The number is not in the list\"\n",
    "\n",
    "list2 = list(map(int, input(\"Enter numbers for the list:\").split()))\n",
    "target1 = int(input(\"Enter any number to search: \"))\n",
    "print(\"The number is in the list and the index number is:\",binary_search(list2, target1))"
   ]
  }
 ],
 "metadata": {
  "kernelspec": {
   "display_name": "Python [conda env:base] *",
   "language": "python",
   "name": "conda-base-py"
  },
  "language_info": {
   "codemirror_mode": {
    "name": "ipython",
    "version": 3
   },
   "file_extension": ".py",
   "mimetype": "text/x-python",
   "name": "python",
   "nbconvert_exporter": "python",
   "pygments_lexer": "ipython3",
   "version": "3.12.7"
  }
 },
 "nbformat": 4,
 "nbformat_minor": 5
}
