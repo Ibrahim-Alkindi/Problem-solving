{
 "cells": [
  {
   "cell_type": "code",
   "execution_count": 104,
   "id": "857ce592-9b25-49dd-b3a6-2ed7a1070891",
   "metadata": {},
   "outputs": [
    {
     "name": "stdin",
     "output_type": "stream",
     "text": [
      "Enter number of rows...  3\n",
      "Enter number of columns...  3\n"
     ]
    },
    {
     "name": "stdout",
     "output_type": "stream",
     "text": [
      "You entered 3 rows, and 3 columns.\n"
     ]
    },
    {
     "name": "stdin",
     "output_type": "stream",
     "text": [
      "Enter value for position (0, 0):  1\n",
      "Enter value for position (0, 1):  2\n",
      "Enter value for position (0, 2):  3\n",
      "Enter value for position (1, 0):  4\n",
      "Enter value for position (1, 1):  5\n",
      "Enter value for position (1, 2):  6\n",
      "Enter value for position (2, 0):  8\n",
      "Enter value for position (2, 1):  9\n",
      "Enter value for position (2, 2):  8\n"
     ]
    },
    {
     "name": "stdout",
     "output_type": "stream",
     "text": [
      "Matrix:\n",
      "[1, 2, 3]\n",
      "[4, 5, 6]\n",
      "[8, 9, 8]\n",
      "Main Diagonal: [1, 5, 8]\n",
      "Reverse Diagonal: [3, 5, 8]\n",
      "The output of subtracting diagonals is 2\n"
     ]
    }
   ],
   "source": [
    "while True:\n",
    "    rows = int(input(\"Enter number of rows... \"))\n",
    "    cols = int(input(\"Enter number of columns... \"))\n",
    "    if rows != cols:\n",
    "        print(\"Rows and Columns should be equal.\")\n",
    "        continue\n",
    "    else:\n",
    "        print(\"You entered {} rows, and {} columns.\".format(rows,cols))\n",
    "        break\n",
    "\n",
    "matrix = []\n",
    "for i in range(rows):\n",
    "    row = []\n",
    "    for j in range(cols):\n",
    "        value = int(input(\"Enter value for position ({}, {}): \".format(i,j)))\n",
    "        row.append(value)\n",
    "    matrix.append(row)\n",
    "\n",
    "\n",
    "print(\"Matrix:\")\n",
    "for row in matrix:\n",
    "    print(row)\n",
    "\n",
    "main_diagonal = []\n",
    "n = len(matrix)\n",
    "for i in range(n):\n",
    "    for j in range(n):\n",
    "        if i == j:\n",
    "            main_diagonal.append(matrix[i][j])\n",
    "print(\"Main Diagonal:\", main_diagonal)\n",
    "\n",
    "reverse_diagonal = []\n",
    "for i in range(n):\n",
    "    for j in range(n):\n",
    "        if i + j == n - 1:\n",
    "            reverse_diagonal.append(matrix[i][j])\n",
    "print(\"Reverse Diagonal:\", reverse_diagonal)\n",
    "\n",
    "add = sum(main_diagonal) - sum(reverse_diagonal)\n",
    "abs_add = abs(add)\n",
    "print(\"The output of subtracting diagonals is\",abs_add)"
   ]
  }
 ],
 "metadata": {
  "kernelspec": {
   "display_name": "Python [conda env:base] *",
   "language": "python",
   "name": "conda-base-py"
  },
  "language_info": {
   "codemirror_mode": {
    "name": "ipython",
    "version": 3
   },
   "file_extension": ".py",
   "mimetype": "text/x-python",
   "name": "python",
   "nbconvert_exporter": "python",
   "pygments_lexer": "ipython3",
   "version": "3.12.7"
  }
 },
 "nbformat": 4,
 "nbformat_minor": 5
}
