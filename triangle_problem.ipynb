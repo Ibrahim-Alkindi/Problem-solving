{
 "cells": [
  {
   "cell_type": "code",
   "execution_count": 119,
   "id": "e7bb0c23-f253-4b41-917b-7a433ab54064",
   "metadata": {},
   "outputs": [
    {
     "name": "stdin",
     "output_type": "stream",
     "text": [
      "Enter Numbers of White balls: 6\n",
      "Enter Numbers of Black balls: 9\n"
     ]
    },
    {
     "name": "stdout",
     "output_type": "stream",
     "text": [
      "4\n"
     ]
    }
   ],
   "source": [
    "while True:\n",
    "    w = int(input(\"Enter Numbers of White balls:\"))\n",
    "    if w >=100:\n",
    "        print(\"White balls should be less than 100\")\n",
    "        continue\n",
    "    break\n",
    "while True:\n",
    "    b = int(input(\"Enter Numbers of Black balls:\"))\n",
    "    if b <= 1:\n",
    "        print(\"Black balls should be more than 1\")\n",
    "        continue\n",
    "    break\n",
    "\n",
    "count = 0\n",
    "row = 1\n",
    "t_w = True\n",
    "\n",
    "while True:\n",
    "    if t_w:\n",
    "        if w >= row:\n",
    "            w -= row\n",
    "        else:\n",
    "            break\n",
    "    else:\n",
    "        if b >= row:\n",
    "            b -= row\n",
    "        else:\n",
    "            break\n",
    "    count +=1\n",
    "    row +=1\n",
    "    t_w = not t_w\n",
    "\n",
    "\n",
    "'''while True:\n",
    "    if turn_white:\n",
    "        if white >= row:\n",
    "            white -= row\n",
    "        else:\n",
    "            break\n",
    "    else:\n",
    "        if black >= row:\n",
    "            black -= row\n",
    "        else:\n",
    "            break\n",
    "    height += 1\n",
    "    row += 1\n",
    "    turn_white = not turn_white'''\n",
    "print(count)"
   ]
  },
  {
   "cell_type": "code",
   "execution_count": 15,
   "id": "b3d9c16f-d5da-4696-a95c-5279400480ce",
   "metadata": {},
   "outputs": [
    {
     "name": "stdin",
     "output_type": "stream",
     "text": [
      " 2 4\n"
     ]
    },
    {
     "name": "stdout",
     "output_type": "stream",
     "text": [
      "True\n",
      "True\n",
      "0\n"
     ]
    }
   ],
   "source": [
    "b, w = map(int, input().split())  # Takes two inputs: b and w\n",
    "\n",
    "# Check if b is more than 1\n",
    "if b <= 1:\n",
    "    print(False)\n",
    "else:\n",
    "    print(True)\n",
    "\n",
    "# Check if w is less than 100\n",
    "if w >= 100:\n",
    "    print(False)\n",
    "else:\n",
    "    print(True)\n",
    "\n",
    "count = 0\n",
    "row = 0\n",
    "\n",
    "while True:\n",
    "    if w % 2 == 1:\n",
    "        if w >= row:  # this line does nothing unless it’s a condition\n",
    "            w -= 1\n",
    "        break\n",
    "    else:\n",
    "        if b % 2 == 0:\n",
    "            if b >= row:\n",
    "                b -= 1\n",
    "            break\n",
    "    count += 1\n",
    "\n",
    "print(count)\n"
   ]
  },
  {
   "cell_type": "code",
   "execution_count": 61,
   "id": "32245312-f79d-428a-b003-aab38b43a16f",
   "metadata": {},
   "outputs": [
    {
     "name": "stdin",
     "output_type": "stream",
     "text": [
      " 6 9\n"
     ]
    },
    {
     "name": "stdout",
     "output_type": "stream",
     "text": [
      "True\n",
      "True\n",
      "5\n"
     ]
    }
   ],
   "source": [
    "b,w = map(int,input().split())\n",
    "if b <= 1:\n",
    "    print(False)\n",
    "else:\n",
    "    print(True)\n",
    "if w >= 100:\n",
    "    print(False)\n",
    "else:\n",
    "    print(True)\n",
    "\n",
    "count = 0\n",
    "row = 1\n",
    "turn_white = True \n",
    "while True:\n",
    "    if turn_white:\n",
    "        if w >= row:\n",
    "            w -=row\n",
    "        else:\n",
    "            break\n",
    "    else:\n",
    "        if b >= row:\n",
    "            b -=row\n",
    "        else:\n",
    "            break\n",
    "    count +=1\n",
    "    row +=1\n",
    "    turn_white = not turn_white\n",
    "\n",
    "print(count)"
   ]
  },
  {
   "cell_type": "code",
   "execution_count": 121,
   "id": "9b28bffe-6342-45e2-b86c-a596007e010a",
   "metadata": {},
   "outputs": [
    {
     "name": "stdin",
     "output_type": "stream",
     "text": [
      "Enter the amount of black balls:  2\n",
      "Enter the amount of white balls:  4\n"
     ]
    },
    {
     "name": "stdout",
     "output_type": "stream",
     "text": [
      "Triangle height: 3\n"
     ]
    }
   ],
   "source": [
    "while True:\n",
    "    black = int(input(\"Enter the amount of black balls: \"))\n",
    "    if black <= 1:\n",
    "        print(\"Invalid: black balls must be more than 1.\")\n",
    "        continue  # Ask again\n",
    "    break  # Valid black input, move on\n",
    "\n",
    "while True:\n",
    "    white = int(input(\"Enter the amount of white balls: \"))\n",
    "    if white >= 100:\n",
    "        print(\"Invalid: white balls must be less than 100.\")\n",
    "        continue  # Ask again\n",
    "    break  # Valid white input\n",
    "\n",
    "height = 0\n",
    "row = 1\n",
    "turn_white = True  # Start with white\n",
    "\n",
    "while True:\n",
    "    if turn_white:\n",
    "        if white >= row:\n",
    "            white -= row\n",
    "        else:\n",
    "            break\n",
    "    else:\n",
    "        if black >= row:\n",
    "            black -= row\n",
    "        else:\n",
    "            break\n",
    "    height += 1\n",
    "    row += 1\n",
    "    turn_white = not turn_white\n",
    "\n",
    "print(\"Triangle height:\", height)"
   ]
  },
  {
   "cell_type": "code",
   "execution_count": 5,
   "id": "2eb44cf2-52ab-41f5-addf-49263fb2c61e",
   "metadata": {},
   "outputs": [
    {
     "name": "stdin",
     "output_type": "stream",
     "text": [
      "Enter Numbers of Black balls: 2\n",
      "Enter Numbers of White balls: 4\n"
     ]
    },
    {
     "name": "stdout",
     "output_type": "stream",
     "text": [
      "3\n"
     ]
    }
   ],
   "source": [
    "while True:\n",
    "    b = int(input(\"Enter Numbers of Black balls:\"))\n",
    "    if b <= 1:\n",
    "        print(\"Black balls should be more than 1\")\n",
    "        continue\n",
    "    break\n",
    "\n",
    "while True:\n",
    "    w = int(input(\"Enter Numbers of White balls:\"))\n",
    "    if w >=100:\n",
    "        print(\"White balls should be less than 100\")\n",
    "        continue\n",
    "    break\n",
    "\n",
    "count = 0\n",
    "row = 1\n",
    "t_w = True\n",
    "\n",
    "while True:\n",
    "    if t_w:\n",
    "        if w >= row:\n",
    "            w -= row\n",
    "        else:\n",
    "            break\n",
    "    else:\n",
    "        if b >= row:\n",
    "            b -= row\n",
    "        else:\n",
    "            break\n",
    "    count +=1\n",
    "    row +=1\n",
    "    t_w = not t_w\n",
    "\n",
    "print(count)"
   ]
  }
 ],
 "metadata": {
  "kernelspec": {
   "display_name": "Python [conda env:base] *",
   "language": "python",
   "name": "conda-base-py"
  },
  "language_info": {
   "codemirror_mode": {
    "name": "ipython",
    "version": 3
   },
   "file_extension": ".py",
   "mimetype": "text/x-python",
   "name": "python",
   "nbconvert_exporter": "python",
   "pygments_lexer": "ipython3",
   "version": "3.12.7"
  }
 },
 "nbformat": 4,
 "nbformat_minor": 5
}
